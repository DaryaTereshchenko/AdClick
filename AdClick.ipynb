{
  "nbformat": 4,
  "nbformat_minor": 0,
  "metadata": {
    "colab": {
      "provenance": [],
      "authorship_tag": "ABX9TyPm9/mzZcItQrDd24KWs2GK",
      "include_colab_link": true
    },
    "kernelspec": {
      "name": "python3",
      "display_name": "Python 3"
    },
    "language_info": {
      "name": "python"
    },
    "accelerator": "GPU",
    "gpuClass": "premium"
  },
  "cells": [
    {
      "cell_type": "markdown",
      "metadata": {
        "id": "view-in-github",
        "colab_type": "text"
      },
      "source": [
        "<a href=\"https://colab.research.google.com/github/DaryaTereshchenko/AdClick/blob/main/AdClisk.ipynb\" target=\"_parent\"><img src=\"https://colab.research.google.com/assets/colab-badge.svg\" alt=\"Open In Colab\"/></a>"
      ]
    },
    {
      "cell_type": "code",
      "execution_count": 1,
      "metadata": {
        "id": "N-DdIbZjaOa7"
      },
      "outputs": [],
      "source": [
        "import numpy as np\n",
        "import pandas as pd\n",
        "import tensorflow as tf\n",
        "from pprint import pprint"
      ]
    },
    {
      "cell_type": "code",
      "source": [
        "from tensorflow.keras import Model\n",
        "from tensorflow.keras.layers import Input, Dense\n",
        "from tensorflow.keras.layers import IntegerLookup, Concatenate\n",
        "from tensorflow.keras.models import Sequential"
      ],
      "metadata": {
        "id": "1fkRSR-0glxd"
      },
      "execution_count": 2,
      "outputs": []
    },
    {
      "cell_type": "code",
      "source": [
        "# load data\n",
        "from urllib.request import urlretrieve\n",
        "import os\n",
        "\n",
        "def download(url, file):\n",
        "    if not os.path.isfile(file):\n",
        "        print(\"Download file... \" + file + \" ...\")\n",
        "        urlretrieve(url,file)\n",
        "        print(\"File downloaded\")\n",
        "\n",
        "d100k_url = \"https://home.ipipan.waw.pl/sj/Warsztaty/AdClick/D10M.tsv.gz\"\n",
        "download(d100k_url,'D100k.tsv.gz')\n",
        "print(\"All the files are downloaded\")"
      ],
      "metadata": {
        "colab": {
          "base_uri": "https://localhost:8080/"
        },
        "id": "bvHzOeklhG-x",
        "outputId": "b6b61247-802b-4309-af67-02c500e3e41a"
      },
      "execution_count": 3,
      "outputs": [
        {
          "output_type": "stream",
          "name": "stdout",
          "text": [
            "Download file... D100k.tsv.gz ...\n",
            "File downloaded\n",
            "All the files are downloaded\n"
          ]
        }
      ]
    },
    {
      "cell_type": "code",
      "source": [
        "ds = tf.data.experimental.make_csv_dataset(\"D100k.tsv.gz\",\n",
        "                                           field_delim=\"\\t\",\n",
        "                                           compression_type=\"GZIP\",\n",
        "                                           num_epochs=1,\n",
        "                                           batch_size=128,  # increase for real work\n",
        "                                           label_name=\"Click\", shuffle=False)\n"
      ],
      "metadata": {
        "id": "G6Cn1rhahRE1"
      },
      "execution_count": 4,
      "outputs": []
    },
    {
      "cell_type": "code",
      "source": [
        "r=next(iter(ds))"
      ],
      "metadata": {
        "id": "89GvuV-6hULQ"
      },
      "execution_count": 5,
      "outputs": []
    },
    {
      "cell_type": "code",
      "source": [
        "r[0][\"Age\"]"
      ],
      "metadata": {
        "colab": {
          "base_uri": "https://localhost:8080/"
        },
        "id": "aaILQDfzhYuU",
        "outputId": "001e425a-ca11-43f1-824f-03f17b9cf9b6"
      },
      "execution_count": 12,
      "outputs": [
        {
          "output_type": "execute_result",
          "data": {
            "text/plain": [
              "<tf.Tensor: shape=(128,), dtype=int32, numpy=\n",
              "array([3, 3, 3, 2, 3, 3, 3, 4, 3, 1, 1, 6, 6, 4, 4, 4, 3, 3, 1, 1, 1, 6,\n",
              "       1, 4, 3, 3, 4, 1, 1, 1, 4, 3, 6, 5, 6, 4, 1, 6, 3, 3, 3, 3, 6, 6,\n",
              "       4, 4, 3, 3, 5, 3, 6, 6, 4, 4, 3, 6, 4, 3, 3, 4, 4, 1, 1, 1, 3, 3,\n",
              "       5, 5, 5, 5, 5, 5, 5, 5, 5, 5, 5, 5, 5, 5, 5, 5, 5, 6, 6, 6, 6, 4,\n",
              "       3, 3, 6, 4, 4, 3, 3, 3, 3, 2, 2, 4, 4, 4, 4, 1, 1, 1, 4, 4, 4, 3,\n",
              "       3, 3, 3, 3, 3, 3, 2, 3, 3, 4, 3, 3, 3, 2, 3, 1, 1, 3], dtype=int32)>"
            ]
          },
          "metadata": {},
          "execution_count": 12
        }
      ]
    },
    {
      "cell_type": "code",
      "source": [
        "inputs = {\n",
        "    \"Position\": Input(shape=(), dtype=tf.int32),\n",
        "    \"Age\": Input(shape=(), dtype=tf.int32),\n",
        "    \"Depth\": Input(shape=(), dtype=tf.int32),\n",
        "    \"Gender\": Input(shape=(), dtype=tf.int32),\n",
        "}\n",
        "\n",
        "input_age = IntegerLookup(vocabulary=[1,2,3,4,5,6], output_mode=\"one_hot\", num_oov_indices=0)(inputs[\"Age\"])\n",
        "ci_p = IntegerLookup(vocabulary=[1,2,3], output_mode=\"one_hot\", num_oov_indices=0)(inputs[\"Position\"])\n",
        "ci_d = IntegerLookup(vocabulary=[1,2,3], output_mode=\"one_hot\", num_oov_indices=0)(inputs[\"Depth\"])\n",
        "ci_g = IntegerLookup(vocabulary=[0,1,2], output_mode=\"one_hot\", num_oov_indices=0)(inputs[\"Gender\"])"
      ],
      "metadata": {
        "id": "-PXTzy0siiHi"
      },
      "execution_count": 23,
      "outputs": []
    },
    {
      "cell_type": "code",
      "source": [
        "encoded = Concatenate()([ci_p, input_age, ci_d, ci_g])"
      ],
      "metadata": {
        "id": "w9X0NMMzjirY"
      },
      "execution_count": 24,
      "outputs": []
    },
    {
      "cell_type": "code",
      "source": [
        "x = Dense(2, activation=\"relu\")(encoded)\n",
        "y = Dense(1, activation=\"sigmoid\")(x)\n",
        "m1 = Model(inputs, y)"
      ],
      "metadata": {
        "id": "mmLwgh7ymvzb"
      },
      "execution_count": 25,
      "outputs": []
    },
    {
      "cell_type": "code",
      "source": [
        "m1.summary()"
      ],
      "metadata": {
        "colab": {
          "base_uri": "https://localhost:8080/"
        },
        "id": "lF4JnoN_mxWN",
        "outputId": "185bddeb-2bec-4fe0-92a2-0be54ee62d53"
      },
      "execution_count": 26,
      "outputs": [
        {
          "output_type": "stream",
          "name": "stdout",
          "text": [
            "Model: \"model_1\"\n",
            "__________________________________________________________________________________________________\n",
            " Layer (type)                   Output Shape         Param #     Connected to                     \n",
            "==================================================================================================\n",
            " input_5 (InputLayer)           [(None,)]            0           []                               \n",
            "                                                                                                  \n",
            " input_6 (InputLayer)           [(None,)]            0           []                               \n",
            "                                                                                                  \n",
            " input_7 (InputLayer)           [(None,)]            0           []                               \n",
            "                                                                                                  \n",
            " input_8 (InputLayer)           [(None,)]            0           []                               \n",
            "                                                                                                  \n",
            " integer_lookup_5 (IntegerLooku  (None, 3)           0           ['input_5[0][0]']                \n",
            " p)                                                                                               \n",
            "                                                                                                  \n",
            " integer_lookup_4 (IntegerLooku  (None, 6)           0           ['input_6[0][0]']                \n",
            " p)                                                                                               \n",
            "                                                                                                  \n",
            " integer_lookup_6 (IntegerLooku  (None, 3)           0           ['input_7[0][0]']                \n",
            " p)                                                                                               \n",
            "                                                                                                  \n",
            " integer_lookup_7 (IntegerLooku  (None, 3)           0           ['input_8[0][0]']                \n",
            " p)                                                                                               \n",
            "                                                                                                  \n",
            " concatenate_1 (Concatenate)    (None, 15)           0           ['integer_lookup_5[0][0]',       \n",
            "                                                                  'integer_lookup_4[0][0]',       \n",
            "                                                                  'integer_lookup_6[0][0]',       \n",
            "                                                                  'integer_lookup_7[0][0]']       \n",
            "                                                                                                  \n",
            " dense_2 (Dense)                (None, 2)            32          ['concatenate_1[0][0]']          \n",
            "                                                                                                  \n",
            " dense_3 (Dense)                (None, 1)            3           ['dense_2[0][0]']                \n",
            "                                                                                                  \n",
            "==================================================================================================\n",
            "Total params: 35\n",
            "Trainable params: 35\n",
            "Non-trainable params: 0\n",
            "__________________________________________________________________________________________________\n"
          ]
        }
      ]
    },
    {
      "cell_type": "code",
      "source": [
        "m1.compile(optimizer=\"Adam\", loss=tf.keras.losses.BinaryCrossentropy(from_logits=False),\n",
        "          metrics=[\"AUC\"])"
      ],
      "metadata": {
        "id": "BCWMJqGGnSkW"
      },
      "execution_count": 27,
      "outputs": []
    },
    {
      "cell_type": "code",
      "source": [
        "m1.fit(ds.unbatch().batch(128), epochs=5)"
      ],
      "metadata": {
        "colab": {
          "base_uri": "https://localhost:8080/"
        },
        "id": "OxgBeABGnZwT",
        "outputId": "b49bdc7a-f0e8-4506-f5d5-7445a8b49c52"
      },
      "execution_count": 29,
      "outputs": [
        {
          "output_type": "stream",
          "name": "stdout",
          "text": [
            "Epoch 1/5\n",
            "78125/78125 [==============================] - 387s 5ms/step - loss: 0.1861 - auc: 0.6030\n",
            "Epoch 2/5\n",
            "78125/78125 [==============================] - 383s 5ms/step - loss: 0.1861 - auc: 0.6030\n",
            "Epoch 3/5\n",
            "78125/78125 [==============================] - 384s 5ms/step - loss: 0.1861 - auc: 0.6030\n",
            "Epoch 4/5\n",
            "78125/78125 [==============================] - 384s 5ms/step - loss: 0.1861 - auc: 0.6030\n",
            "Epoch 5/5\n",
            "78125/78125 [==============================] - 384s 5ms/step - loss: 0.1861 - auc: 0.6030\n"
          ]
        },
        {
          "output_type": "execute_result",
          "data": {
            "text/plain": [
              "<keras.callbacks.History at 0x7f1bef7235b0>"
            ]
          },
          "metadata": {},
          "execution_count": 29
        }
      ]
    },
    {
      "cell_type": "code",
      "source": [],
      "metadata": {
        "id": "FEjz_T50nbr5"
      },
      "execution_count": null,
      "outputs": []
    }
  ]
}
