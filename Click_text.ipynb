{
  "nbformat": 4,
  "nbformat_minor": 0,
  "metadata": {
    "colab": {
      "provenance": [],
      "machine_shape": "hm",
      "authorship_tag": "ABX9TyN5/daaCzm4aixyZhTQRKqZ",
      "include_colab_link": true
    },
    "kernelspec": {
      "name": "python3",
      "display_name": "Python 3"
    },
    "language_info": {
      "name": "python"
    },
    "gpuClass": "premium",
    "accelerator": "GPU"
  },
  "cells": [
    {
      "cell_type": "markdown",
      "metadata": {
        "id": "view-in-github",
        "colab_type": "text"
      },
      "source": [
        "<a href=\"https://colab.research.google.com/github/DaryaTereshchenko/AdClick/blob/main/Click_text.ipynb\" target=\"_parent\"><img src=\"https://colab.research.google.com/assets/colab-badge.svg\" alt=\"Open In Colab\"/></a>"
      ]
    },
    {
      "cell_type": "code",
      "execution_count": 1,
      "metadata": {
        "id": "-c1cj-SsNZGx"
      },
      "outputs": [],
      "source": [
        "import numpy as np\n",
        "import pandas as pd\n",
        "import tensorflow as tf\n",
        "from pprint import pprint\n",
        "import re"
      ]
    },
    {
      "cell_type": "code",
      "source": [
        "from tensorflow.keras.models import Model\n",
        "from tensorflow.keras.layers import Input, Dense, Dropout\n",
        "from tensorflow.keras.layers import IntegerLookup, Concatenate, Flatten\n"
      ],
      "metadata": {
        "id": "WgQR4x1yNew8"
      },
      "execution_count": 2,
      "outputs": []
    },
    {
      "cell_type": "code",
      "source": [
        "# load data\n",
        "from urllib.request import urlretrieve\n",
        "import os\n",
        "\n",
        "def download(url, file):\n",
        "    if not os.path.isfile(file):\n",
        "        print(\"Download file... \" + file + \" ...\")\n",
        "        urlretrieve(url,file)\n",
        "        print(\"File downloaded\")\n",
        "\n",
        "d10m_url = \"https://home.ipipan.waw.pl/sj/TIB_PAN_Adv/AdClick/D10M.tsv.gz\"\n",
        "download(d10m_url,'D10M.tsv.gz')\n",
        "print(\"All the files are downloaded\")\n",
        "\n",
        "# d100k_url = \"https://home.ipipan.waw.pl/sj/TIB_PAN_Adv/AdClick/D100k.tsv.gz\"\n",
        "# download(d100k_url,'D100k.tsv.gz')\n",
        "# print(\"All the files are downloaded\")"
      ],
      "metadata": {
        "colab": {
          "base_uri": "https://localhost:8080/"
        },
        "id": "h0LggWLPNgyt",
        "outputId": "0dea1a56-b6c1-48fa-e3e2-c52881f351ae"
      },
      "execution_count": 3,
      "outputs": [
        {
          "output_type": "stream",
          "name": "stdout",
          "text": [
            "Download file... D10M.tsv.gz ...\n",
            "File downloaded\n",
            "All the files are downloaded\n"
          ]
        }
      ]
    },
    {
      "cell_type": "code",
      "source": [
        "ds = tf.data.experimental.make_csv_dataset(\"D10M.tsv.gz\",\n",
        "                                           field_delim=\"\\t\",\n",
        "                                           compression_type=\"GZIP\",\n",
        "                                           num_epochs=1,\n",
        "                                           batch_size=1024,  \n",
        "                                           label_name=\"Click\", shuffle=False)\n"
      ],
      "metadata": {
        "id": "sC3LRYiPNquM"
      },
      "execution_count": 4,
      "outputs": []
    },
    {
      "cell_type": "code",
      "source": [
        "def get_dataset_partitions_tf(ds, ds_size=10000000, train_split=0.8, val_split=0.1, test_split=0.1, shuffle=True, shuffle_size=10000):\n",
        "    assert (train_split + test_split + val_split) == 1\n",
        "    \n",
        "    if shuffle:\n",
        "        # Specify seed to always have the same split distribution between runs\n",
        "        ds = ds.shuffle(shuffle_size, seed=12)\n",
        "    \n",
        "    train_size = int(train_split * ds_size)\n",
        "    val_size = int(val_split * ds_size)\n",
        "    \n",
        "    train_ds = ds.take(train_size)    \n",
        "    val_ds = ds.skip(train_size).take(val_size)\n",
        "    test_ds = ds.skip(train_size).skip(val_size)\n",
        "    \n",
        "    return train_ds, val_ds, test_ds"
      ],
      "metadata": {
        "id": "eoS6LbcsZJjy"
      },
      "execution_count": 5,
      "outputs": []
    },
    {
      "cell_type": "code",
      "source": [
        "train_ds, val_ds, test_ds = get_dataset_partitions_tf(ds)"
      ],
      "metadata": {
        "id": "Xqp3rnMPZWZq"
      },
      "execution_count": 6,
      "outputs": []
    },
    {
      "cell_type": "code",
      "source": [
        "train = train_ds.unbatch()\n",
        "\n",
        "needed_vocab = {\"AdKeyword_tokens\": [], \"AdDescription_tokens\": [], \"Query_tokens\": []}\n",
        "\n",
        "for dic in train.as_numpy_iterator():\n",
        "  for k, v in dic[0].items():\n",
        "    if k in needed_vocab.keys():\n",
        "      needed_vocab[k].append(v)\n"
      ],
      "metadata": {
        "id": "fcekXfz2PUkz"
      },
      "execution_count": 7,
      "outputs": []
    },
    {
      "cell_type": "code",
      "source": [
        "def transform_to_list(parameter):\n",
        "  list_of_tokens = list(map(lambda x: x.replace(b\"|\", b\" \").split(b\" \"), parameter))\n",
        "  flatten_list = [item for subl in list_of_tokens for item in subl]\n",
        "  return np.asarray(flatten_list)\n"
      ],
      "metadata": {
        "id": "E2GGJMTNYZ3z"
      },
      "execution_count": 8,
      "outputs": []
    },
    {
      "cell_type": "code",
      "source": [
        "keyword_tokens = transform_to_list(needed_vocab[\"AdKeyword_tokens\"])\n",
        "description_tokens = transform_to_list(needed_vocab[\"AdDescription_tokens\"])\n",
        "query_tokens = transform_to_list(needed_vocab[\"Query_tokens\"])\n",
        "total_vocab = np.unique(np.concatenate((keyword_tokens, description_tokens, query_tokens), axis=0))"
      ],
      "metadata": {
        "id": "WKgioUzIWD_Q"
      },
      "execution_count": 9,
      "outputs": []
    },
    {
      "cell_type": "code",
      "source": [
        "print(len(description_tokens))\n",
        "print(len(keyword_tokens))\n",
        "print(len(query_tokens))\n",
        "print(len(total_vocab))"
      ],
      "metadata": {
        "colab": {
          "base_uri": "https://localhost:8080/"
        },
        "id": "IXQ1nLvnYI1d",
        "outputId": "e4263abc-263c-4f44-9de6-9a2e08b76982"
      },
      "execution_count": 10,
      "outputs": [
        {
          "output_type": "stream",
          "name": "stdout",
          "text": [
            "213222057\n",
            "21087925\n",
            "30146708\n",
            "221391\n"
          ]
        }
      ]
    },
    {
      "cell_type": "code",
      "source": [
        "maxlen = 128\n",
        "max_features = 221395 # max word number"
      ],
      "metadata": {
        "id": "S7RpWTlMOuhJ"
      },
      "execution_count": 11,
      "outputs": []
    },
    {
      "cell_type": "code",
      "source": [
        "def split_on_slash(input_data):\n",
        "  return tf.strings.regex_replace(input_data, \"\\|\", \" \")"
      ],
      "metadata": {
        "id": "b3bvtjrIPHFM"
      },
      "execution_count": 12,
      "outputs": []
    },
    {
      "cell_type": "code",
      "source": [
        "def build_model1():\n",
        "  inputs = {\n",
        "      \"Position\": Input(shape=(), dtype=tf.int32),\n",
        "      \"Age\": Input(shape=(), dtype=tf.int32),\n",
        "      \"Depth\": Input(shape=(), dtype=tf.int32),\n",
        "      \"Gender\": Input(shape=(), dtype=tf.int32),\n",
        "      \"AdvertiserId\": Input(shape=(), dtype=tf.int32),\n",
        "      \"AdDescription_tokens\": Input(shape=(), dtype=tf.string),\n",
        "      \"Query_tokens\": Input(shape=(), dtype=tf.string),\n",
        "      \"AdKeyword_tokens\": Input(shape=(), dtype=tf.string)}\n",
        "\n",
        "  # Integer part\n",
        "  input_age = IntegerLookup(vocabulary=[1,2,3,4,5,6], output_mode=\"one_hot\", num_oov_indices=0)(inputs[\"Age\"])\n",
        "  ci_p = IntegerLookup(vocabulary=[1,2,3], output_mode=\"one_hot\", num_oov_indices=0)(inputs[\"Position\"])\n",
        "  ci_d = IntegerLookup(vocabulary=[1,2,3], output_mode=\"one_hot\", num_oov_indices=0)(inputs[\"Depth\"])\n",
        "  ci_g = IntegerLookup(vocabulary=[0,1,2], output_mode=\"one_hot\", num_oov_indices=0)(inputs[\"Gender\"])\n",
        "  encoded = Concatenate()([ci_p, input_age, ci_d, ci_g])\n",
        "  layer = tf.keras.layers.Hashing(num_bins=1024, output_mode=\"one_hot\")(inputs[\"AdvertiserId\"])\n",
        "\n",
        "  conc = tf.keras.layers.concatenate([layer, encoded])\n",
        "  num = Dropout(rate=0.3)(conc)\n",
        "  num = Dense(128)(num)\n",
        "  num = Flatten()(num)\n",
        "\n",
        "# String part\n",
        "  description = tf.keras.layers.TextVectorization(max_tokens=max_features, output_mode=\"int\", pad_to_max_tokens=maxlen, standardize=split_on_slash, output_sequence_length=maxlen, vocabulary=total_vocab)(inputs[\"AdDescription_tokens\"])\n",
        "  x = tf.keras.layers.Embedding(max_features, output_dim=10, input_length=maxlen)(description)\n",
        "  \n",
        "  title = tf.keras.layers.TextVectorization(max_tokens=max_features, output_mode=\"int\", pad_to_max_tokens=maxlen, standardize=split_on_slash, output_sequence_length=maxlen, vocabulary=total_vocab)(inputs[\"Query_tokens\"])\n",
        "  y = tf.keras.layers.Embedding(max_features, output_dim=10, input_length=maxlen)(title)\n",
        "\n",
        "  keywords = tf.keras.layers.TextVectorization(max_tokens=max_features, output_mode=\"int\", pad_to_max_tokens=maxlen, standardize=split_on_slash, output_sequence_length=maxlen, vocabulary=total_vocab)(inputs[\"AdKeyword_tokens\"])\n",
        "  o = tf.keras.layers.Embedding(max_features, output_dim=10, input_length=maxlen)(keywords)\n",
        "\n",
        "  c = Concatenate()([x, y, o])\n",
        "  c = tf.keras.layers.SpatialDropout1D(0.3)(c)\n",
        "  c = tf.keras.layers.Bidirectional(tf.keras.layers.LSTM(256, return_sequences=True))(c)\n",
        "  c = tf.keras.layers.GlobalAveragePooling1D()(c)\n",
        "  t = Dropout(rate=0.3)(c)\n",
        "  # t = Dense(128)(t)\n",
        "  t = Flatten()(t)\n",
        "\n",
        "  z = Concatenate()([t, num])\n",
        "  z = tf.keras.layers.Dense(64, activation='relu')(z)\n",
        "  z = tf.keras.layers.BatchNormalization()(z)\n",
        "  z = tf.keras.layers.Dense(1, activation='sigmoid')(z)\n",
        "  \n",
        "\n",
        "  model = Model(inputs=inputs, outputs=z)\n",
        "  model.compile(optimizer=\"Adam\", loss=tf.keras.losses.BinaryCrossentropy(from_logits=False),\n",
        "          metrics=[\"AUC\"], run_eagerly=True)\n",
        "  return model"
      ],
      "metadata": {
        "id": "d_jQEIivVU56"
      },
      "execution_count": 61,
      "outputs": []
    },
    {
      "cell_type": "code",
      "source": [
        "model = build_model1()\n",
        "model.summary()\n",
        "tf.keras.utils.plot_model(model)\n"
      ],
      "metadata": {
        "id": "XHPS_HZmPwB_"
      },
      "execution_count": null,
      "outputs": []
    },
    {
      "cell_type": "code",
      "source": [
        "model.fit(train_ds.unbatch().batch(1024), epochs=12, verbose=1, validation_data=val_ds.unbatch().batch(1024))"
      ],
      "metadata": {
        "colab": {
          "base_uri": "https://localhost:8080/"
        },
        "id": "sLNUhgirQKKR",
        "outputId": "ee88bcc7-3468-4b39-bc69-07fc7a47f1a1"
      },
      "execution_count": 15,
      "outputs": [
        {
          "output_type": "stream",
          "name": "stdout",
          "text": [
            "Epoch 1/12\n"
          ]
        },
        {
          "output_type": "stream",
          "name": "stderr",
          "text": [
            "/usr/local/lib/python3.8/dist-packages/keras/engine/functional.py:566: UserWarning: Input dict contained keys ['DisplayURL', 'AdId', 'UserID', 'AdTitle_tokens'] which did not match any model input. They will be ignored by the model.\n",
            "  inputs = self._flatten_to_reference_inputs(inputs)\n"
          ]
        },
        {
          "output_type": "stream",
          "name": "stdout",
          "text": [
            "9766/9766 [==============================] - 1441s 132ms/step - loss: 0.1805 - auc: 0.6859\n",
            "Epoch 2/12\n",
            "9766/9766 [==============================] - 1298s 119ms/step - loss: 0.1726 - auc: 0.7235\n",
            "Epoch 3/12\n",
            "9766/9766 [==============================] - 1311s 120ms/step - loss: 0.1708 - auc: 0.7366\n",
            "Epoch 4/12\n",
            "9766/9766 [==============================] - 1315s 120ms/step - loss: 0.1694 - auc: 0.7455\n",
            "Epoch 5/12\n",
            "9766/9766 [==============================] - 1319s 120ms/step - loss: 0.1684 - auc: 0.7520\n",
            "Epoch 6/12\n",
            "9766/9766 [==============================] - 1322s 121ms/step - loss: 0.1675 - auc: 0.7574\n",
            "Epoch 7/12\n",
            "9766/9766 [==============================] - 1323s 121ms/step - loss: 0.1667 - auc: 0.7619\n",
            "Epoch 8/12\n",
            "9766/9766 [==============================] - 1321s 121ms/step - loss: 0.1660 - auc: 0.7653\n",
            "Epoch 9/12\n",
            "9766/9766 [==============================] - 1323s 121ms/step - loss: 0.1655 - auc: 0.7670\n",
            "Epoch 10/12\n",
            "9766/9766 [==============================] - 1323s 121ms/step - loss: 0.1648 - auc: 0.7707\n",
            "Epoch 11/12\n",
            "9766/9766 [==============================] - 1338s 121ms/step - loss: 0.1644 - auc: 0.7721\n",
            "Epoch 12/12\n",
            "9766/9766 [==============================] - 1331s 121ms/step - loss: 0.1640 - auc: 0.7737\n"
          ]
        },
        {
          "output_type": "execute_result",
          "data": {
            "text/plain": [
              "<keras.callbacks.History at 0x7fdd1a70cac0>"
            ]
          },
          "metadata": {},
          "execution_count": 15
        }
      ]
    },
    {
      "cell_type": "code",
      "source": [
        "from urllib.request import urlretrieve\n",
        "import os\n",
        "\n",
        "def download(url, file):\n",
        "    if not os.path.isfile(file):\n",
        "        print(\"Download file... \" + file + \" ...\")\n",
        "        urlretrieve(url,file)\n",
        "        print(\"File downloaded\")\n",
        "\n",
        "d5m_url = \"https://home.ipipan.waw.pl/sj/TIB_PAN_Adv/AdClick/D5M_test_x.tsv.gz\"\n",
        "download(d5m_url,'D5M_test_x.tsv.gz')\n",
        "print(\"All the files are downloaded\")"
      ],
      "metadata": {
        "colab": {
          "base_uri": "https://localhost:8080/"
        },
        "id": "gobzTMWFtOs-",
        "outputId": "8f6ffa49-78c9-49a4-deea-7b633e54856d"
      },
      "execution_count": 52,
      "outputs": [
        {
          "output_type": "stream",
          "name": "stdout",
          "text": [
            "All the files are downloaded\n"
          ]
        }
      ]
    },
    {
      "cell_type": "code",
      "source": [
        "test_data = tf.data.experimental.make_csv_dataset(\"D5M_test_x.tsv.gz\",\n",
        "                                           field_delim=\"\\t\",\n",
        "                                           compression_type=\"GZIP\",\n",
        "                                           num_epochs=1,\n",
        "                                           batch_size=1024,  \n",
        "                                           label_name=\"Click\", \n",
        "                                           column_defaults = (tf.float32, tf.int64, tf.int32, tf.int32, tf.int32, tf.int32, tf.int32, tf.int32, tf.int32,\n",
        "                                                              tf.string, tf.string, tf.string, tf.string, tf.string),\n",
        "                                           shuffle=False, ignore_errors=True)\n"
      ],
      "metadata": {
        "id": "IhhlUBP6vRZm"
      },
      "execution_count": 59,
      "outputs": []
    },
    {
      "cell_type": "code",
      "source": [
        "# test_data = tf.data.experimental.make_csv_dataset(\"D5M_test_x.tsv.gz\",\n",
        "#                                            field_delim=\"\\t\",\n",
        "#                                            compression_type=\"GZIP\",\n",
        "#                                            num_epochs=1,\n",
        "#                                            batch_size=1024,\n",
        "#                                            label_name=\"Click\",\n",
        "#                                            column_defaults = (tf.float32, tf.int64, tf.int32, tf.int32, tf.int32, tf.int32, tf.int32, tf.int32, tf.int32,\n",
        "#                                                               tf.string, tf.string, tf.string, tf.string, tf.string),\n",
        "#                                            shuffle=False,\n",
        "#                                            ignore_errors=True)\n"
      ],
      "metadata": {
        "id": "PlijUpoFYawC"
      },
      "execution_count": 45,
      "outputs": []
    },
    {
      "cell_type": "code",
      "source": [
        "pprint(test_data.element_spec)"
      ],
      "metadata": {
        "id": "x4t5yrbSY1UC",
        "colab": {
          "base_uri": "https://localhost:8080/"
        },
        "outputId": "e5be7084-7fdc-4971-8b02-bfd92053baa8"
      },
      "execution_count": 42,
      "outputs": [
        {
          "output_type": "stream",
          "name": "stdout",
          "text": [
            "(OrderedDict([('DisplayURL',\n",
            "               TensorSpec(shape=(None,), dtype=tf.int64, name=None)),\n",
            "              ('AdId', TensorSpec(shape=(None,), dtype=tf.int32, name=None)),\n",
            "              ('AdvertiserId',\n",
            "               TensorSpec(shape=(None,), dtype=tf.int32, name=None)),\n",
            "              ('Depth', TensorSpec(shape=(None,), dtype=tf.int32, name=None)),\n",
            "              ('Position',\n",
            "               TensorSpec(shape=(None,), dtype=tf.int32, name=None)),\n",
            "              ('UserID', TensorSpec(shape=(None,), dtype=tf.int32, name=None)),\n",
            "              ('Gender', TensorSpec(shape=(None,), dtype=tf.int32, name=None)),\n",
            "              ('Age', TensorSpec(shape=(None,), dtype=tf.int32, name=None)),\n",
            "              ('AdKeyword_tokens',\n",
            "               TensorSpec(shape=(None,), dtype=tf.string, name=None)),\n",
            "              ('AdTitle_tokens',\n",
            "               TensorSpec(shape=(None,), dtype=tf.string, name=None)),\n",
            "              ('AdDescription_tokens',\n",
            "               TensorSpec(shape=(None,), dtype=tf.string, name=None)),\n",
            "              ('Query_tokens',\n",
            "               TensorSpec(shape=(None,), dtype=tf.string, name=None))]),\n",
            " TensorSpec(shape=(None,), dtype=tf.float32, name=None))\n"
          ]
        }
      ]
    },
    {
      "cell_type": "code",
      "source": [
        "y_pred = model.predict(test_data.unbatch().batch(256).take(1))"
      ],
      "metadata": {
        "colab": {
          "base_uri": "https://localhost:8080/",
          "height": 338
        },
        "id": "SpMZm5f8ZRQb",
        "outputId": "2a8b8a8c-bf87-42e1-c28e-068699325106"
      },
      "execution_count": 62,
      "outputs": [
        {
          "output_type": "error",
          "ename": "ValueError",
          "evalue": "ignored",
          "traceback": [
            "\u001b[0;31m---------------------------------------------------------------------------\u001b[0m",
            "\u001b[0;31mValueError\u001b[0m                                Traceback (most recent call last)",
            "\u001b[0;32m<ipython-input-62-6f1fae2f993c>\u001b[0m in \u001b[0;36m<module>\u001b[0;34m\u001b[0m\n\u001b[0;32m----> 1\u001b[0;31m \u001b[0my_pred\u001b[0m \u001b[0;34m=\u001b[0m \u001b[0mmodel\u001b[0m\u001b[0;34m.\u001b[0m\u001b[0mpredict\u001b[0m\u001b[0;34m(\u001b[0m\u001b[0mtest_data\u001b[0m\u001b[0;34m.\u001b[0m\u001b[0munbatch\u001b[0m\u001b[0;34m(\u001b[0m\u001b[0;34m)\u001b[0m\u001b[0;34m.\u001b[0m\u001b[0mbatch\u001b[0m\u001b[0;34m(\u001b[0m\u001b[0;36m256\u001b[0m\u001b[0;34m)\u001b[0m\u001b[0;34m.\u001b[0m\u001b[0mtake\u001b[0m\u001b[0;34m(\u001b[0m\u001b[0;36m1\u001b[0m\u001b[0;34m)\u001b[0m\u001b[0;34m)\u001b[0m\u001b[0;34m\u001b[0m\u001b[0;34m\u001b[0m\u001b[0m\n\u001b[0m",
            "\u001b[0;32m/usr/local/lib/python3.8/dist-packages/keras/utils/traceback_utils.py\u001b[0m in \u001b[0;36merror_handler\u001b[0;34m(*args, **kwargs)\u001b[0m\n\u001b[1;32m     65\u001b[0m     \u001b[0;32mexcept\u001b[0m \u001b[0mException\u001b[0m \u001b[0;32mas\u001b[0m \u001b[0me\u001b[0m\u001b[0;34m:\u001b[0m  \u001b[0;31m# pylint: disable=broad-except\u001b[0m\u001b[0;34m\u001b[0m\u001b[0;34m\u001b[0m\u001b[0m\n\u001b[1;32m     66\u001b[0m       \u001b[0mfiltered_tb\u001b[0m \u001b[0;34m=\u001b[0m \u001b[0m_process_traceback_frames\u001b[0m\u001b[0;34m(\u001b[0m\u001b[0me\u001b[0m\u001b[0;34m.\u001b[0m\u001b[0m__traceback__\u001b[0m\u001b[0;34m)\u001b[0m\u001b[0;34m\u001b[0m\u001b[0;34m\u001b[0m\u001b[0m\n\u001b[0;32m---> 67\u001b[0;31m       \u001b[0;32mraise\u001b[0m \u001b[0me\u001b[0m\u001b[0;34m.\u001b[0m\u001b[0mwith_traceback\u001b[0m\u001b[0;34m(\u001b[0m\u001b[0mfiltered_tb\u001b[0m\u001b[0;34m)\u001b[0m \u001b[0;32mfrom\u001b[0m \u001b[0;32mNone\u001b[0m\u001b[0;34m\u001b[0m\u001b[0;34m\u001b[0m\u001b[0m\n\u001b[0m\u001b[1;32m     68\u001b[0m     \u001b[0;32mfinally\u001b[0m\u001b[0;34m:\u001b[0m\u001b[0;34m\u001b[0m\u001b[0;34m\u001b[0m\u001b[0m\n\u001b[1;32m     69\u001b[0m       \u001b[0;32mdel\u001b[0m \u001b[0mfiltered_tb\u001b[0m\u001b[0;34m\u001b[0m\u001b[0;34m\u001b[0m\u001b[0m\n",
            "\u001b[0;32m/usr/local/lib/python3.8/dist-packages/keras/engine/training.py\u001b[0m in \u001b[0;36mpredict\u001b[0;34m(self, x, batch_size, verbose, steps, callbacks, max_queue_size, workers, use_multiprocessing)\u001b[0m\n\u001b[1;32m   2046\u001b[0m             \u001b[0mcallbacks\u001b[0m\u001b[0;34m.\u001b[0m\u001b[0mon_predict_batch_end\u001b[0m\u001b[0;34m(\u001b[0m\u001b[0mend_step\u001b[0m\u001b[0;34m,\u001b[0m \u001b[0;34m{\u001b[0m\u001b[0;34m'outputs'\u001b[0m\u001b[0;34m:\u001b[0m \u001b[0mbatch_outputs\u001b[0m\u001b[0;34m}\u001b[0m\u001b[0;34m)\u001b[0m\u001b[0;34m\u001b[0m\u001b[0;34m\u001b[0m\u001b[0m\n\u001b[1;32m   2047\u001b[0m       \u001b[0;32mif\u001b[0m \u001b[0mbatch_outputs\u001b[0m \u001b[0;32mis\u001b[0m \u001b[0;32mNone\u001b[0m\u001b[0;34m:\u001b[0m\u001b[0;34m\u001b[0m\u001b[0;34m\u001b[0m\u001b[0m\n\u001b[0;32m-> 2048\u001b[0;31m         raise ValueError('Unexpected result of `predict_function` '\n\u001b[0m\u001b[1;32m   2049\u001b[0m                          \u001b[0;34m'(Empty batch_outputs). Please use '\u001b[0m\u001b[0;34m\u001b[0m\u001b[0;34m\u001b[0m\u001b[0m\n\u001b[1;32m   2050\u001b[0m                          \u001b[0;34m'`Model.compile(..., run_eagerly=True)`, or '\u001b[0m\u001b[0;34m\u001b[0m\u001b[0;34m\u001b[0m\u001b[0m\n",
            "\u001b[0;31mValueError\u001b[0m: Unexpected result of `predict_function` (Empty batch_outputs). Please use `Model.compile(..., run_eagerly=True)`, or `tf.config.run_functions_eagerly(True)` for more information of where went wrong, or file a issue/bug to `tf.keras`."
          ]
        }
      ]
    },
    {
      "cell_type": "code",
      "source": [
        "y_pred"
      ],
      "metadata": {
        "id": "DUGlleUozQ2q"
      },
      "execution_count": null,
      "outputs": []
    }
  ]
}