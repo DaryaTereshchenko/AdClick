{
  "nbformat": 4,
  "nbformat_minor": 0,
  "metadata": {
    "colab": {
      "provenance": [],
      "authorship_tag": "ABX9TyNk+2jo2grAhBnH5kj5EZlX",
      "include_colab_link": true
    },
    "kernelspec": {
      "name": "python3",
      "display_name": "Python 3"
    },
    "language_info": {
      "name": "python"
    },
    "accelerator": "GPU",
    "gpuClass": "standard"
  },
  "cells": [
    {
      "cell_type": "markdown",
      "metadata": {
        "id": "view-in-github",
        "colab_type": "text"
      },
      "source": [
        "<a href=\"https://colab.research.google.com/github/DaryaTereshchenko/AdClick/blob/main/Model.ipynb\" target=\"_parent\"><img src=\"https://colab.research.google.com/assets/colab-badge.svg\" alt=\"Open In Colab\"/></a>"
      ]
    },
    {
      "cell_type": "code",
      "source": [
        "import numpy as np\n",
        "import pandas as pd\n",
        "import tensorflow as tf\n",
        "from pprint import pprint"
      ],
      "metadata": {
        "id": "_4m18B2AEXm4"
      },
      "execution_count": null,
      "outputs": []
    },
    {
      "cell_type": "code",
      "source": [
        "from tensorflow.keras import Model\n",
        "from tensorflow.keras.layers import Input, Dense\n",
        "from tensorflow.keras.layers import IntegerLookup, Concatenate\n",
        "from tensorflow.keras.models import Sequential"
      ],
      "metadata": {
        "id": "qtpvY7O8LLEh"
      },
      "execution_count": null,
      "outputs": []
    },
    {
      "cell_type": "code",
      "source": [
        "from sklearn.model_selection import train_test_split"
      ],
      "metadata": {
        "id": "net4LnnVRv_n"
      },
      "execution_count": null,
      "outputs": []
    },
    {
      "cell_type": "code",
      "execution_count": null,
      "metadata": {
        "colab": {
          "base_uri": "https://localhost:8080/"
        },
        "id": "OTR_FylfDgHk",
        "outputId": "954e5446-4b3f-4ef1-b03d-ce77fa801fcf"
      },
      "outputs": [
        {
          "output_type": "stream",
          "name": "stdout",
          "text": [
            "All the files are downloaded\n"
          ]
        }
      ],
      "source": [
        "# load data\n",
        "from urllib.request import urlretrieve\n",
        "import os\n",
        "\n",
        "def download(url, file):\n",
        "    if not os.path.isfile(file):\n",
        "        print(\"Download file... \" + file + \" ...\")\n",
        "        urlretrieve(url,file)\n",
        "        print(\"File downloaded\")\n",
        "\n",
        "d100k_url = \"https://home.ipipan.waw.pl/sj/Warsztaty/AdClick/D10M.tsv.gz\"\n",
        "download(d100k_url,'D10M.tsv.gz')\n",
        "print(\"All the files are downloaded\")"
      ]
    },
    {
      "cell_type": "code",
      "source": [
        "ds = tf.data.experimental.make_csv_dataset(\"D10M.tsv.gz\",\n",
        "                                           field_delim=\"\\t\",\n",
        "                                           compression_type=\"GZIP\",\n",
        "                                           num_epochs=1,\n",
        "                                           batch_size=128,  # increase for real work\n",
        "                                           label_name=None, shuffle=False)\n"
      ],
      "metadata": {
        "id": "R_tlC2psEOyf"
      },
      "execution_count": null,
      "outputs": []
    },
    {
      "cell_type": "code",
      "source": [
        "pprint(ds.element_spec)"
      ],
      "metadata": {
        "colab": {
          "base_uri": "https://localhost:8080/"
        },
        "id": "jhNWiP9jSSNn",
        "outputId": "da50e7b7-a92d-42be-ab07-517bf0238c61"
      },
      "execution_count": null,
      "outputs": [
        {
          "output_type": "stream",
          "name": "stdout",
          "text": [
            "OrderedDict([('Click', TensorSpec(shape=(None,), dtype=tf.int32, name=None)),\n",
            "             ('DisplayURL',\n",
            "              TensorSpec(shape=(None,), dtype=tf.float32, name=None)),\n",
            "             ('AdId', TensorSpec(shape=(None,), dtype=tf.int32, name=None)),\n",
            "             ('AdvertiserId',\n",
            "              TensorSpec(shape=(None,), dtype=tf.int32, name=None)),\n",
            "             ('Depth', TensorSpec(shape=(None,), dtype=tf.int32, name=None)),\n",
            "             ('Position', TensorSpec(shape=(None,), dtype=tf.int32, name=None)),\n",
            "             ('UserID', TensorSpec(shape=(None,), dtype=tf.int32, name=None)),\n",
            "             ('Gender', TensorSpec(shape=(None,), dtype=tf.int32, name=None)),\n",
            "             ('Age', TensorSpec(shape=(None,), dtype=tf.int32, name=None)),\n",
            "             ('AdKeyword_tokens',\n",
            "              TensorSpec(shape=(None,), dtype=tf.string, name=None)),\n",
            "             ('AdTitle_tokens',\n",
            "              TensorSpec(shape=(None,), dtype=tf.string, name=None)),\n",
            "             ('AdDescription_tokens',\n",
            "              TensorSpec(shape=(None,), dtype=tf.string, name=None)),\n",
            "             ('Query_tokens',\n",
            "              TensorSpec(shape=(None,), dtype=tf.string, name=None))])\n"
          ]
        }
      ]
    },
    {
      "cell_type": "code",
      "source": [],
      "metadata": {
        "id": "7RkZd5zIXFVp"
      },
      "execution_count": null,
      "outputs": []
    },
    {
      "cell_type": "code",
      "source": [
        "print(type(ds))"
      ],
      "metadata": {
        "colab": {
          "base_uri": "https://localhost:8080/"
        },
        "id": "eg1-pb6rS_YR",
        "outputId": "b149d9c5-5a80-4840-a185-c8a1478c7b23"
      },
      "execution_count": null,
      "outputs": [
        {
          "output_type": "stream",
          "name": "stdout",
          "text": [
            "<class 'tensorflow.python.data.ops.dataset_ops.PrefetchDataset'>\n"
          ]
        }
      ]
    },
    {
      "cell_type": "code",
      "source": [
        "X_train, X_test, y_train, y_test = train_test_split(X, y, test_size=0.33, random_state=42)"
      ],
      "metadata": {
        "colab": {
          "base_uri": "https://localhost:8080/",
          "height": 165
        },
        "id": "Spd1mn4_SJAe",
        "outputId": "0200f0bd-8219-42e3-c2ee-0fdf74354bf4"
      },
      "execution_count": null,
      "outputs": [
        {
          "output_type": "error",
          "ename": "NameError",
          "evalue": "ignored",
          "traceback": [
            "\u001b[0;31m---------------------------------------------------------------------------\u001b[0m",
            "\u001b[0;31mNameError\u001b[0m                                 Traceback (most recent call last)",
            "\u001b[0;32m<ipython-input-51-dea611e03200>\u001b[0m in \u001b[0;36m<module>\u001b[0;34m\u001b[0m\n\u001b[0;32m----> 1\u001b[0;31m \u001b[0mX_train\u001b[0m\u001b[0;34m,\u001b[0m \u001b[0mX_test\u001b[0m\u001b[0;34m,\u001b[0m \u001b[0my_train\u001b[0m\u001b[0;34m,\u001b[0m \u001b[0my_test\u001b[0m \u001b[0;34m=\u001b[0m \u001b[0mtrain_test_split\u001b[0m\u001b[0;34m(\u001b[0m\u001b[0mX\u001b[0m\u001b[0;34m,\u001b[0m \u001b[0my\u001b[0m\u001b[0;34m,\u001b[0m \u001b[0mtest_size\u001b[0m\u001b[0;34m=\u001b[0m\u001b[0;36m0.33\u001b[0m\u001b[0;34m,\u001b[0m \u001b[0mrandom_state\u001b[0m\u001b[0;34m=\u001b[0m\u001b[0;36m42\u001b[0m\u001b[0;34m)\u001b[0m\u001b[0;34m\u001b[0m\u001b[0;34m\u001b[0m\u001b[0m\n\u001b[0m",
            "\u001b[0;31mNameError\u001b[0m: name 'X' is not defined"
          ]
        }
      ]
    },
    {
      "cell_type": "code",
      "source": [],
      "metadata": {
        "id": "vaJgf35JEnda"
      },
      "execution_count": null,
      "outputs": []
    },
    {
      "cell_type": "code",
      "source": [
        "pprint(next(iter(ds)))"
      ],
      "metadata": {
        "id": "hKqxr2kbFClX"
      },
      "execution_count": null,
      "outputs": []
    },
    {
      "cell_type": "code",
      "source": [
        "inputs = {\n",
        "    \"Position\": Input(shape=(), dtype=tf.int32),\n",
        "    \"Depth\": Input(shape=(), dtype=tf.int32),\n",
        "    \"Gender\": Input(shape=(), dtype=tf.int32)\n",
        "}"
      ],
      "metadata": {
        "id": "ALB_WmeALPDd"
      },
      "execution_count": null,
      "outputs": []
    },
    {
      "cell_type": "code",
      "source": [
        "# from tensorflow.keras.layers import CategoryEncoding\n",
        "# from tensorflow.keras.layers import StringLookup\n",
        "# from tensorflow.keras.layers import Hashing"
      ],
      "metadata": {
        "id": "bUGxxOkXNJTw"
      },
      "execution_count": null,
      "outputs": []
    },
    {
      "cell_type": "code",
      "source": [
        "ci_p =  IntegerLookup(vocabulary=[1,2,3], output_mode=\"one_hot\", num_oov_indices=0)(inputs[\"Position\"])\n",
        "ci_d = IntegerLookup(vocabulary=[1,2,3], output_mode=\"one_hot\", num_oov_indices=0)(inputs[\"Depth\"])\n",
        "ci_g = IntegerLookup(vocabulary=[0,1,2], output_mode=\"one_hot\", num_oov_indices=0)(inputs[\"Gender\"])"
      ],
      "metadata": {
        "id": "tJhS_jYCLRIq"
      },
      "execution_count": null,
      "outputs": []
    },
    {
      "cell_type": "code",
      "source": [
        "encoded = Concatenate()([ci_p, ci_d, ci_g])"
      ],
      "metadata": {
        "id": "wLitO9Z8LU7J"
      },
      "execution_count": null,
      "outputs": []
    },
    {
      "cell_type": "code",
      "source": [
        "encoding_model = Model(inputs, encoded)\n"
      ],
      "metadata": {
        "colab": {
          "base_uri": "https://localhost:8080/"
        },
        "id": "mOFNd-aEMKCG",
        "outputId": "0b9ceba2-3933-401b-997d-babe9b1db877"
      },
      "execution_count": null,
      "outputs": [
        {
          "output_type": "execute_result",
          "data": {
            "text/plain": [
              "<tf.Tensor: shape=(128, 9), dtype=float32, numpy=\n",
              "array([[0., 0., 1., ..., 0., 1., 0.],\n",
              "       [1., 0., 0., ..., 0., 1., 0.],\n",
              "       [0., 1., 0., ..., 0., 1., 0.],\n",
              "       ...,\n",
              "       [0., 1., 0., ..., 0., 1., 0.],\n",
              "       [1., 0., 0., ..., 0., 1., 0.],\n",
              "       [1., 0., 0., ..., 0., 1., 0.]], dtype=float32)>"
            ]
          },
          "metadata": {},
          "execution_count": 34
        }
      ]
    },
    {
      "cell_type": "code",
      "source": [
        "encoding_model(next(iter(ds))[0]) # take only fearues, not class"
      ],
      "metadata": {
        "id": "kJR3NbPJRgkA"
      },
      "execution_count": null,
      "outputs": []
    },
    {
      "cell_type": "code",
      "source": [
        "# simple logistic regression\n",
        "y = Dense(1, activation=\"sigmoid\")(encoded)\n",
        "m = Model(inputs, y)"
      ],
      "metadata": {
        "id": "dDutKEedOHWs"
      },
      "execution_count": null,
      "outputs": []
    },
    {
      "cell_type": "code",
      "source": [
        "m.compile(optimizer=\"Adam\", loss=tf.keras.losses.BinaryCrossentropy(from_logits=False),\n",
        "          metrics=[\"AUC\"])"
      ],
      "metadata": {
        "id": "lNzMupTTOfIx"
      },
      "execution_count": null,
      "outputs": []
    },
    {
      "cell_type": "code",
      "source": [
        "m.fit(ds.unbatch().batch(128), epochs=20)"
      ],
      "metadata": {
        "colab": {
          "base_uri": "https://localhost:8080/"
        },
        "id": "8I-zYTY6Oin6",
        "outputId": "3fef037a-3be6-412d-a161-789f05cd4674"
      },
      "execution_count": null,
      "outputs": [
        {
          "output_type": "stream",
          "name": "stdout",
          "text": [
            "Epoch 1/20\n",
            "782/782 [==============================] - 6s 6ms/step - loss: 0.3246 - auc: 0.4739\n",
            "Epoch 2/20\n",
            "782/782 [==============================] - 5s 6ms/step - loss: 0.2094 - auc: 0.4637\n",
            "Epoch 3/20\n",
            "782/782 [==============================] - 5s 6ms/step - loss: 0.1990 - auc: 0.4757\n",
            "Epoch 4/20\n",
            "782/782 [==============================] - 5s 6ms/step - loss: 0.1960 - auc: 0.5088\n",
            "Epoch 5/20\n",
            "782/782 [==============================] - 5s 6ms/step - loss: 0.1945 - auc: 0.5611\n",
            "Epoch 6/20\n",
            "782/782 [==============================] - 5s 6ms/step - loss: 0.1937 - auc: 0.5788\n",
            "Epoch 7/20\n",
            "782/782 [==============================] - 5s 6ms/step - loss: 0.1933 - auc: 0.5896\n",
            "Epoch 8/20\n",
            "782/782 [==============================] - 5s 7ms/step - loss: 0.1931 - auc: 0.5927\n",
            "Epoch 9/20\n",
            "782/782 [==============================] - 6s 7ms/step - loss: 0.1930 - auc: 0.5944\n",
            "Epoch 10/20\n",
            "782/782 [==============================] - 5s 7ms/step - loss: 0.1930 - auc: 0.5952\n",
            "Epoch 11/20\n",
            "782/782 [==============================] - 5s 6ms/step - loss: 0.1930 - auc: 0.5948\n",
            "Epoch 12/20\n",
            "782/782 [==============================] - 5s 7ms/step - loss: 0.1930 - auc: 0.5952\n",
            "Epoch 13/20\n",
            "782/782 [==============================] - 5s 6ms/step - loss: 0.1930 - auc: 0.5949\n",
            "Epoch 14/20\n",
            "782/782 [==============================] - 5s 6ms/step - loss: 0.1930 - auc: 0.5952\n",
            "Epoch 15/20\n",
            "782/782 [==============================] - 5s 6ms/step - loss: 0.1930 - auc: 0.5955\n",
            "Epoch 16/20\n",
            "782/782 [==============================] - 5s 6ms/step - loss: 0.1930 - auc: 0.5956\n",
            "Epoch 17/20\n",
            "782/782 [==============================] - 5s 6ms/step - loss: 0.1930 - auc: 0.5959\n",
            "Epoch 18/20\n",
            "782/782 [==============================] - 5s 6ms/step - loss: 0.1930 - auc: 0.5958\n",
            "Epoch 19/20\n",
            "782/782 [==============================] - 5s 6ms/step - loss: 0.1930 - auc: 0.5959\n",
            "Epoch 20/20\n",
            "782/782 [==============================] - 5s 6ms/step - loss: 0.1930 - auc: 0.5960\n"
          ]
        },
        {
          "output_type": "execute_result",
          "data": {
            "text/plain": [
              "<keras.callbacks.History at 0x7f0d04569580>"
            ]
          },
          "metadata": {},
          "execution_count": 49
        }
      ]
    },
    {
      "cell_type": "code",
      "source": [
        "m.summary()"
      ],
      "metadata": {
        "colab": {
          "base_uri": "https://localhost:8080/"
        },
        "id": "1xso8kitQqF2",
        "outputId": "a7d6bde0-b4bd-4fd9-9e78-2926f254a4e1"
      },
      "execution_count": null,
      "outputs": [
        {
          "output_type": "stream",
          "name": "stdout",
          "text": [
            "Model: \"model_3\"\n",
            "__________________________________________________________________________________________________\n",
            " Layer (type)                   Output Shape         Param #     Connected to                     \n",
            "==================================================================================================\n",
            " input_3 (InputLayer)           [(None,)]            0           []                               \n",
            "                                                                                                  \n",
            " input_4 (InputLayer)           [(None,)]            0           []                               \n",
            "                                                                                                  \n",
            " input_5 (InputLayer)           [(None,)]            0           []                               \n",
            "                                                                                                  \n",
            " integer_lookup_19 (IntegerLook  (None, 3)           0           ['input_3[0][0]']                \n",
            " up)                                                                                              \n",
            "                                                                                                  \n",
            " integer_lookup_20 (IntegerLook  (None, 3)           0           ['input_4[0][0]']                \n",
            " up)                                                                                              \n",
            "                                                                                                  \n",
            " integer_lookup_21 (IntegerLook  (None, 3)           0           ['input_5[0][0]']                \n",
            " up)                                                                                              \n",
            "                                                                                                  \n",
            " concatenate_2 (Concatenate)    (None, 9)            0           ['integer_lookup_19[0][0]',      \n",
            "                                                                  'integer_lookup_20[0][0]',      \n",
            "                                                                  'integer_lookup_21[0][0]']      \n",
            "                                                                                                  \n",
            " dense (Dense)                  (None, 1)            10          ['concatenate_2[0][0]']          \n",
            "                                                                                                  \n",
            "==================================================================================================\n",
            "Total params: 10\n",
            "Trainable params: 10\n",
            "Non-trainable params: 0\n",
            "__________________________________________________________________________________________________\n"
          ]
        }
      ]
    },
    {
      "cell_type": "code",
      "source": [
        "def compile_and_run(model, epochs=10):\n",
        "    model.compile(loss=tf.keras.losses.binary_crossentropy,\n",
        "              optimizer=tf.keras.optimizers.Adam(),\n",
        "              metrics=['accuracy'])\n",
        "    print(model.layers)\n",
        "    model.summary()\n",
        "    batch_size = 128\n",
        "    model.fit(data_frame, labels,\n",
        "              batch_size=batch_size,\n",
        "              epochs=epochs,\n",
        "              verbose=1,\n",
        "              validation_data=(x_test_p, y_test))\n",
        "    # score = model.evaluate(x_test_p, y_test, verbose=0)\n",
        "    # print('Test loss:', score[0])\n",
        "    # print('Test accuracy:', score[1])\n",
        "    return tf.keras.utils.plot_model(model)"
      ],
      "metadata": {
        "id": "byTQ7DodP_hv"
      },
      "execution_count": null,
      "outputs": []
    },
    {
      "cell_type": "code",
      "source": [
        "model2 = Sequential()\n"
      ],
      "metadata": {
        "id": "I659_F_6Onen"
      },
      "execution_count": null,
      "outputs": []
    },
    {
      "cell_type": "code",
      "source": [],
      "metadata": {
        "id": "DCd3T3fsPaxH"
      },
      "execution_count": null,
      "outputs": []
    }
  ]
}